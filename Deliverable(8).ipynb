{
  "nbformat": 4,
  "nbformat_minor": 0,
  "metadata": {
    "colab": {
      "provenance": [],
      "authorship_tag": "ABX9TyMLlUbrIiC+RgUztrSEaV1r",
      "include_colab_link": true
    },
    "kernelspec": {
      "name": "python3",
      "display_name": "Python 3"
    },
    "language_info": {
      "name": "python"
    }
  },
  "cells": [
    {
      "cell_type": "markdown",
      "metadata": {
        "id": "view-in-github",
        "colab_type": "text"
      },
      "source": [
        "<a href=\"https://colab.research.google.com/github/aliciasullivan/Deliverable2/blob/main/Deliverable(8).ipynb\" target=\"_parent\"><img src=\"https://colab.research.google.com/assets/colab-badge.svg\" alt=\"Open In Colab\"/></a>"
      ]
    },
    {
      "cell_type": "code",
      "execution_count": 131,
      "metadata": {
        "id": "zvheS9-NM5n5"
      },
      "outputs": [],
      "source": [
        "import numpy as np "
      ]
    },
    {
      "cell_type": "code",
      "source": [
        "def random_list(size):\n",
        "  list = []\n",
        "  for i in range(size):\n",
        "    list.append(np.random.randint(10,50))\n",
        "  return list\n",
        "\n",
        "def sum_random (list):\n",
        "  sum = 0\n",
        "  for i in range(len(list)):\n",
        "    sum = sum + list[i]\n",
        "  return sum"
      ],
      "metadata": {
        "id": "BD18oL4OX6kx"
      },
      "execution_count": 132,
      "outputs": []
    },
    {
      "cell_type": "code",
      "source": [
        "n = int(input(\"Enter an integer between 5 and 15 \"))\n",
        "if n>=5 and n<=15:\n",
        "  print('')\n",
        "\n",
        "else:\n",
        "  print('invalid')"
      ],
      "metadata": {
        "colab": {
          "base_uri": "https://localhost:8080/"
        },
        "id": "lI6rlQlkX8u9",
        "outputId": "175ce03c-8a31-4058-a4e6-05e643c260f1"
      },
      "execution_count": 133,
      "outputs": [
        {
          "output_type": "stream",
          "name": "stdout",
          "text": [
            "Enter an integer between 5 and 15 5\n",
            "\n"
          ]
        }
      ]
    },
    {
      "cell_type": "code",
      "source": [
        "MyList = random_list(n)\n",
        "print ('The elements of the arrays are:')\n",
        "MyList"
      ],
      "metadata": {
        "colab": {
          "base_uri": "https://localhost:8080/"
        },
        "id": "Lp4vlYQhX_Ho",
        "outputId": "72ce14c1-60a6-4285-d978-0c0e54ed334d"
      },
      "execution_count": 134,
      "outputs": [
        {
          "output_type": "stream",
          "name": "stdout",
          "text": [
            "The elements of the arrays are:\n"
          ]
        },
        {
          "output_type": "execute_result",
          "data": {
            "text/plain": [
              "[40, 33, 24, 31, 44]"
            ]
          },
          "metadata": {},
          "execution_count": 134
        }
      ]
    },
    {
      "cell_type": "code",
      "source": [
        "MySum = sum_random(MyList)\n",
        "print ('The sum is:') \n",
        "MySum"
      ],
      "metadata": {
        "colab": {
          "base_uri": "https://localhost:8080/"
        },
        "collapsed": true,
        "id": "s4WySG5SYA02",
        "outputId": "c2aea5c7-2800-43e6-baed-26ae02cc96da"
      },
      "execution_count": 135,
      "outputs": [
        {
          "output_type": "stream",
          "name": "stdout",
          "text": [
            "The sum is:\n"
          ]
        },
        {
          "output_type": "execute_result",
          "data": {
            "text/plain": [
              "172"
            ]
          },
          "metadata": {},
          "execution_count": 135
        }
      ]
    }
  ]
}